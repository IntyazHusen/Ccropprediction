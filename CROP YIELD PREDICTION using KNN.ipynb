{
 "cells": [
  {
   "cell_type": "markdown",
   "id": "b850c4cf",
   "metadata": {},
   "source": [
    "## CROP YIELD PREDICTION using KNN"
   ]
  },
  {
   "cell_type": "markdown",
   "id": "593766c1",
   "metadata": {},
   "source": [
    "IMPORTING LIBRARY"
   ]
  },
  {
   "cell_type": "code",
   "execution_count": 1,
   "id": "6d626e64",
   "metadata": {},
   "outputs": [],
   "source": [
    "import pandas as pd\n",
    "import numpy as np\n",
    "import matplotlib.pyplot as plt\n",
    "import seaborn as sns"
   ]
  },
  {
   "cell_type": "code",
   "execution_count": 2,
   "id": "90e6e714",
   "metadata": {},
   "outputs": [],
   "source": [
    "data = pd.read_excel(r\"C:\\Users\\Avani\\Desktop\\Practice\\crop interface\\CROP.xlsx\")"
   ]
  },
  {
   "cell_type": "code",
   "execution_count": 3,
   "id": "f01dcd2a",
   "metadata": {},
   "outputs": [
    {
     "name": "stdout",
     "output_type": "stream",
     "text": [
      "      NITROGEN  PHOSPHORUS  POTASSIUM  TEMPERATURE   HUMIDITY        PH  \\\n",
      "0           90          42         43    20.879744  82.002744  6.502985   \n",
      "1           85          58         41    21.770462  80.319644  7.038096   \n",
      "2           60          55         44    23.004459  82.320763  7.840207   \n",
      "3           74          35         40    26.491096  80.158363  6.980401   \n",
      "4           78          42         42    20.130175  81.604873  7.628473   \n",
      "...        ...         ...        ...          ...        ...       ...   \n",
      "2195       107          34         32    26.774637  66.413269  6.780064   \n",
      "2196        99          15         27    27.417112  56.636362  6.086922   \n",
      "2197       118          33         30    24.131797  67.225123  6.362608   \n",
      "2198       117          32         34    26.272418  52.127394  6.758793   \n",
      "2199       104          18         30    23.603016  60.396475  6.779833   \n",
      "\n",
      "        RAINFALL    CROP  \n",
      "0     202.935536    rice  \n",
      "1     226.655537    rice  \n",
      "2     263.964248    rice  \n",
      "3     242.864034    rice  \n",
      "4     262.717340    rice  \n",
      "...          ...     ...  \n",
      "2195  177.774507  coffee  \n",
      "2196  127.924610  coffee  \n",
      "2197  173.322839  coffee  \n",
      "2198  127.175293  coffee  \n",
      "2199  140.937041  coffee  \n",
      "\n",
      "[2200 rows x 8 columns]\n"
     ]
    },
    {
     "data": {
      "text/html": [
       "<div>\n",
       "<style scoped>\n",
       "    .dataframe tbody tr th:only-of-type {\n",
       "        vertical-align: middle;\n",
       "    }\n",
       "\n",
       "    .dataframe tbody tr th {\n",
       "        vertical-align: top;\n",
       "    }\n",
       "\n",
       "    .dataframe thead th {\n",
       "        text-align: right;\n",
       "    }\n",
       "</style>\n",
       "<table border=\"1\" class=\"dataframe\">\n",
       "  <thead>\n",
       "    <tr style=\"text-align: right;\">\n",
       "      <th></th>\n",
       "      <th>NITROGEN</th>\n",
       "      <th>PHOSPHORUS</th>\n",
       "      <th>POTASSIUM</th>\n",
       "      <th>TEMPERATURE</th>\n",
       "      <th>HUMIDITY</th>\n",
       "      <th>PH</th>\n",
       "      <th>RAINFALL</th>\n",
       "      <th>CROP</th>\n",
       "    </tr>\n",
       "  </thead>\n",
       "  <tbody>\n",
       "    <tr>\n",
       "      <th>0</th>\n",
       "      <td>90</td>\n",
       "      <td>42</td>\n",
       "      <td>43</td>\n",
       "      <td>20.879744</td>\n",
       "      <td>82.002744</td>\n",
       "      <td>6.502985</td>\n",
       "      <td>202.935536</td>\n",
       "      <td>rice</td>\n",
       "    </tr>\n",
       "    <tr>\n",
       "      <th>1</th>\n",
       "      <td>85</td>\n",
       "      <td>58</td>\n",
       "      <td>41</td>\n",
       "      <td>21.770462</td>\n",
       "      <td>80.319644</td>\n",
       "      <td>7.038096</td>\n",
       "      <td>226.655537</td>\n",
       "      <td>rice</td>\n",
       "    </tr>\n",
       "    <tr>\n",
       "      <th>2</th>\n",
       "      <td>60</td>\n",
       "      <td>55</td>\n",
       "      <td>44</td>\n",
       "      <td>23.004459</td>\n",
       "      <td>82.320763</td>\n",
       "      <td>7.840207</td>\n",
       "      <td>263.964248</td>\n",
       "      <td>rice</td>\n",
       "    </tr>\n",
       "    <tr>\n",
       "      <th>3</th>\n",
       "      <td>74</td>\n",
       "      <td>35</td>\n",
       "      <td>40</td>\n",
       "      <td>26.491096</td>\n",
       "      <td>80.158363</td>\n",
       "      <td>6.980401</td>\n",
       "      <td>242.864034</td>\n",
       "      <td>rice</td>\n",
       "    </tr>\n",
       "    <tr>\n",
       "      <th>4</th>\n",
       "      <td>78</td>\n",
       "      <td>42</td>\n",
       "      <td>42</td>\n",
       "      <td>20.130175</td>\n",
       "      <td>81.604873</td>\n",
       "      <td>7.628473</td>\n",
       "      <td>262.717340</td>\n",
       "      <td>rice</td>\n",
       "    </tr>\n",
       "  </tbody>\n",
       "</table>\n",
       "</div>"
      ],
      "text/plain": [
       "   NITROGEN  PHOSPHORUS  POTASSIUM  TEMPERATURE   HUMIDITY        PH  \\\n",
       "0        90          42         43    20.879744  82.002744  6.502985   \n",
       "1        85          58         41    21.770462  80.319644  7.038096   \n",
       "2        60          55         44    23.004459  82.320763  7.840207   \n",
       "3        74          35         40    26.491096  80.158363  6.980401   \n",
       "4        78          42         42    20.130175  81.604873  7.628473   \n",
       "\n",
       "     RAINFALL  CROP  \n",
       "0  202.935536  rice  \n",
       "1  226.655537  rice  \n",
       "2  263.964248  rice  \n",
       "3  242.864034  rice  \n",
       "4  262.717340  rice  "
      ]
     },
     "execution_count": 3,
     "metadata": {},
     "output_type": "execute_result"
    }
   ],
   "source": [
    "excel = pd.read_excel(r\"C:\\Users\\Avani\\Desktop\\Practice\\crop interface\\CROP.xlsx\")\n",
    "print(excel)\n",
    "data.head()"
   ]
  },
  {
   "cell_type": "code",
   "execution_count": 4,
   "id": "f6f6f813",
   "metadata": {},
   "outputs": [
    {
     "name": "stdout",
     "output_type": "stream",
     "text": [
      "['rice' 'maize' 'chickpea' 'kidneybeans' 'pigeonpeas' 'mothbeans'\n",
      " 'mungbean' 'blackgram' 'lentil' 'pomegranate' 'banana' 'mango' 'grapes'\n",
      " 'watermelon' 'muskmelon' 'apple' 'orange' 'papaya' 'coconut' 'cotton'\n",
      " 'jute' 'coffee']\n"
     ]
    }
   ],
   "source": [
    "print(data[\"CROP\"].unique())"
   ]
  },
  {
   "cell_type": "code",
   "execution_count": 5,
   "id": "f21eafee",
   "metadata": {},
   "outputs": [
    {
     "name": "stdout",
     "output_type": "stream",
     "text": [
      "rice           100\n",
      "maize          100\n",
      "jute           100\n",
      "cotton         100\n",
      "coconut        100\n",
      "papaya         100\n",
      "orange         100\n",
      "apple          100\n",
      "muskmelon      100\n",
      "watermelon     100\n",
      "grapes         100\n",
      "mango          100\n",
      "banana         100\n",
      "pomegranate    100\n",
      "lentil         100\n",
      "blackgram      100\n",
      "mungbean       100\n",
      "mothbeans      100\n",
      "pigeonpeas     100\n",
      "kidneybeans    100\n",
      "chickpea       100\n",
      "coffee         100\n",
      "Name: CROP, dtype: int64\n"
     ]
    }
   ],
   "source": [
    "print(data[\"CROP\"].value_counts())"
   ]
  },
  {
   "cell_type": "code",
   "execution_count": 6,
   "id": "09985d1b",
   "metadata": {
    "scrolled": true
   },
   "outputs": [
    {
     "data": {
      "text/plain": [
       "Index(['NITROGEN', 'PHOSPHORUS', 'POTASSIUM', 'TEMPERATURE', 'HUMIDITY', 'PH',\n",
       "       'RAINFALL', 'CROP'],\n",
       "      dtype='object')"
      ]
     },
     "execution_count": 6,
     "metadata": {},
     "output_type": "execute_result"
    }
   ],
   "source": [
    "data.columns"
   ]
  },
  {
   "cell_type": "code",
   "execution_count": 7,
   "id": "0e9fd690",
   "metadata": {},
   "outputs": [],
   "source": [
    "# deleting column"
   ]
  },
  {
   "cell_type": "code",
   "execution_count": 8,
   "id": "b7ebe1a1",
   "metadata": {},
   "outputs": [],
   "source": [
    "dataset = data[['NITROGEN', 'PHOSPHORUS', 'POTASSIUM', 'TEMPERATURE', 'HUMIDITY', 'PH',\n",
    "       'RAINFALL', 'CROP']]"
   ]
  },
  {
   "cell_type": "code",
   "execution_count": 9,
   "id": "af50e845",
   "metadata": {},
   "outputs": [
    {
     "data": {
      "text/html": [
       "<div>\n",
       "<style scoped>\n",
       "    .dataframe tbody tr th:only-of-type {\n",
       "        vertical-align: middle;\n",
       "    }\n",
       "\n",
       "    .dataframe tbody tr th {\n",
       "        vertical-align: top;\n",
       "    }\n",
       "\n",
       "    .dataframe thead th {\n",
       "        text-align: right;\n",
       "    }\n",
       "</style>\n",
       "<table border=\"1\" class=\"dataframe\">\n",
       "  <thead>\n",
       "    <tr style=\"text-align: right;\">\n",
       "      <th></th>\n",
       "      <th>NITROGEN</th>\n",
       "      <th>PHOSPHORUS</th>\n",
       "      <th>POTASSIUM</th>\n",
       "      <th>TEMPERATURE</th>\n",
       "      <th>HUMIDITY</th>\n",
       "      <th>PH</th>\n",
       "      <th>RAINFALL</th>\n",
       "      <th>CROP</th>\n",
       "    </tr>\n",
       "  </thead>\n",
       "  <tbody>\n",
       "    <tr>\n",
       "      <th>0</th>\n",
       "      <td>90</td>\n",
       "      <td>42</td>\n",
       "      <td>43</td>\n",
       "      <td>20.879744</td>\n",
       "      <td>82.002744</td>\n",
       "      <td>6.502985</td>\n",
       "      <td>202.935536</td>\n",
       "      <td>rice</td>\n",
       "    </tr>\n",
       "    <tr>\n",
       "      <th>1</th>\n",
       "      <td>85</td>\n",
       "      <td>58</td>\n",
       "      <td>41</td>\n",
       "      <td>21.770462</td>\n",
       "      <td>80.319644</td>\n",
       "      <td>7.038096</td>\n",
       "      <td>226.655537</td>\n",
       "      <td>rice</td>\n",
       "    </tr>\n",
       "    <tr>\n",
       "      <th>2</th>\n",
       "      <td>60</td>\n",
       "      <td>55</td>\n",
       "      <td>44</td>\n",
       "      <td>23.004459</td>\n",
       "      <td>82.320763</td>\n",
       "      <td>7.840207</td>\n",
       "      <td>263.964248</td>\n",
       "      <td>rice</td>\n",
       "    </tr>\n",
       "    <tr>\n",
       "      <th>3</th>\n",
       "      <td>74</td>\n",
       "      <td>35</td>\n",
       "      <td>40</td>\n",
       "      <td>26.491096</td>\n",
       "      <td>80.158363</td>\n",
       "      <td>6.980401</td>\n",
       "      <td>242.864034</td>\n",
       "      <td>rice</td>\n",
       "    </tr>\n",
       "    <tr>\n",
       "      <th>4</th>\n",
       "      <td>78</td>\n",
       "      <td>42</td>\n",
       "      <td>42</td>\n",
       "      <td>20.130175</td>\n",
       "      <td>81.604873</td>\n",
       "      <td>7.628473</td>\n",
       "      <td>262.717340</td>\n",
       "      <td>rice</td>\n",
       "    </tr>\n",
       "  </tbody>\n",
       "</table>\n",
       "</div>"
      ],
      "text/plain": [
       "   NITROGEN  PHOSPHORUS  POTASSIUM  TEMPERATURE   HUMIDITY        PH  \\\n",
       "0        90          42         43    20.879744  82.002744  6.502985   \n",
       "1        85          58         41    21.770462  80.319644  7.038096   \n",
       "2        60          55         44    23.004459  82.320763  7.840207   \n",
       "3        74          35         40    26.491096  80.158363  6.980401   \n",
       "4        78          42         42    20.130175  81.604873  7.628473   \n",
       "\n",
       "     RAINFALL  CROP  \n",
       "0  202.935536  rice  \n",
       "1  226.655537  rice  \n",
       "2  263.964248  rice  \n",
       "3  242.864034  rice  \n",
       "4  262.717340  rice  "
      ]
     },
     "execution_count": 9,
     "metadata": {},
     "output_type": "execute_result"
    }
   ],
   "source": [
    "dataset.head()"
   ]
  },
  {
   "cell_type": "code",
   "execution_count": 10,
   "id": "c7ffff7c",
   "metadata": {},
   "outputs": [],
   "source": [
    "y = dataset.iloc[:,-1:]\n",
    "X = dataset.iloc[:,:-1]"
   ]
  },
  {
   "cell_type": "code",
   "execution_count": 11,
   "id": "3e97afca",
   "metadata": {},
   "outputs": [
    {
     "data": {
      "text/html": [
       "<div>\n",
       "<style scoped>\n",
       "    .dataframe tbody tr th:only-of-type {\n",
       "        vertical-align: middle;\n",
       "    }\n",
       "\n",
       "    .dataframe tbody tr th {\n",
       "        vertical-align: top;\n",
       "    }\n",
       "\n",
       "    .dataframe thead th {\n",
       "        text-align: right;\n",
       "    }\n",
       "</style>\n",
       "<table border=\"1\" class=\"dataframe\">\n",
       "  <thead>\n",
       "    <tr style=\"text-align: right;\">\n",
       "      <th></th>\n",
       "      <th>CROP</th>\n",
       "    </tr>\n",
       "  </thead>\n",
       "  <tbody>\n",
       "    <tr>\n",
       "      <th>0</th>\n",
       "      <td>rice</td>\n",
       "    </tr>\n",
       "    <tr>\n",
       "      <th>1</th>\n",
       "      <td>rice</td>\n",
       "    </tr>\n",
       "    <tr>\n",
       "      <th>2</th>\n",
       "      <td>rice</td>\n",
       "    </tr>\n",
       "    <tr>\n",
       "      <th>3</th>\n",
       "      <td>rice</td>\n",
       "    </tr>\n",
       "    <tr>\n",
       "      <th>4</th>\n",
       "      <td>rice</td>\n",
       "    </tr>\n",
       "  </tbody>\n",
       "</table>\n",
       "</div>"
      ],
      "text/plain": [
       "   CROP\n",
       "0  rice\n",
       "1  rice\n",
       "2  rice\n",
       "3  rice\n",
       "4  rice"
      ]
     },
     "execution_count": 11,
     "metadata": {},
     "output_type": "execute_result"
    }
   ],
   "source": [
    "y.head()"
   ]
  },
  {
   "cell_type": "code",
   "execution_count": 12,
   "id": "3fc3a605",
   "metadata": {
    "scrolled": false
   },
   "outputs": [
    {
     "data": {
      "text/html": [
       "<div>\n",
       "<style scoped>\n",
       "    .dataframe tbody tr th:only-of-type {\n",
       "        vertical-align: middle;\n",
       "    }\n",
       "\n",
       "    .dataframe tbody tr th {\n",
       "        vertical-align: top;\n",
       "    }\n",
       "\n",
       "    .dataframe thead th {\n",
       "        text-align: right;\n",
       "    }\n",
       "</style>\n",
       "<table border=\"1\" class=\"dataframe\">\n",
       "  <thead>\n",
       "    <tr style=\"text-align: right;\">\n",
       "      <th></th>\n",
       "      <th>NITROGEN</th>\n",
       "      <th>PHOSPHORUS</th>\n",
       "      <th>POTASSIUM</th>\n",
       "      <th>TEMPERATURE</th>\n",
       "      <th>HUMIDITY</th>\n",
       "      <th>PH</th>\n",
       "      <th>RAINFALL</th>\n",
       "    </tr>\n",
       "  </thead>\n",
       "  <tbody>\n",
       "    <tr>\n",
       "      <th>0</th>\n",
       "      <td>90</td>\n",
       "      <td>42</td>\n",
       "      <td>43</td>\n",
       "      <td>20.879744</td>\n",
       "      <td>82.002744</td>\n",
       "      <td>6.502985</td>\n",
       "      <td>202.935536</td>\n",
       "    </tr>\n",
       "    <tr>\n",
       "      <th>1</th>\n",
       "      <td>85</td>\n",
       "      <td>58</td>\n",
       "      <td>41</td>\n",
       "      <td>21.770462</td>\n",
       "      <td>80.319644</td>\n",
       "      <td>7.038096</td>\n",
       "      <td>226.655537</td>\n",
       "    </tr>\n",
       "    <tr>\n",
       "      <th>2</th>\n",
       "      <td>60</td>\n",
       "      <td>55</td>\n",
       "      <td>44</td>\n",
       "      <td>23.004459</td>\n",
       "      <td>82.320763</td>\n",
       "      <td>7.840207</td>\n",
       "      <td>263.964248</td>\n",
       "    </tr>\n",
       "    <tr>\n",
       "      <th>3</th>\n",
       "      <td>74</td>\n",
       "      <td>35</td>\n",
       "      <td>40</td>\n",
       "      <td>26.491096</td>\n",
       "      <td>80.158363</td>\n",
       "      <td>6.980401</td>\n",
       "      <td>242.864034</td>\n",
       "    </tr>\n",
       "    <tr>\n",
       "      <th>4</th>\n",
       "      <td>78</td>\n",
       "      <td>42</td>\n",
       "      <td>42</td>\n",
       "      <td>20.130175</td>\n",
       "      <td>81.604873</td>\n",
       "      <td>7.628473</td>\n",
       "      <td>262.717340</td>\n",
       "    </tr>\n",
       "  </tbody>\n",
       "</table>\n",
       "</div>"
      ],
      "text/plain": [
       "   NITROGEN  PHOSPHORUS  POTASSIUM  TEMPERATURE   HUMIDITY        PH  \\\n",
       "0        90          42         43    20.879744  82.002744  6.502985   \n",
       "1        85          58         41    21.770462  80.319644  7.038096   \n",
       "2        60          55         44    23.004459  82.320763  7.840207   \n",
       "3        74          35         40    26.491096  80.158363  6.980401   \n",
       "4        78          42         42    20.130175  81.604873  7.628473   \n",
       "\n",
       "     RAINFALL  \n",
       "0  202.935536  \n",
       "1  226.655537  \n",
       "2  263.964248  \n",
       "3  242.864034  \n",
       "4  262.717340  "
      ]
     },
     "execution_count": 12,
     "metadata": {},
     "output_type": "execute_result"
    }
   ],
   "source": [
    "X.head()"
   ]
  },
  {
   "cell_type": "markdown",
   "id": "7608c91a",
   "metadata": {},
   "source": [
    "IMPORTING KNEAREST NEIGHBHOR"
   ]
  },
  {
   "cell_type": "code",
   "execution_count": 13,
   "id": "94b9da84",
   "metadata": {},
   "outputs": [],
   "source": [
    "from sklearn import preprocessing                                         # Importing sklearn library. This is a very powerfull library for machine learning. Scikit-learn is probably the most useful library for machine learning in Python. The sklearn library contains a lot of efficient tools for machine learning and statistical modeling including classification, regression, clustering and dimensionality reduction.\n",
    "from sklearn.neighbors import KNeighborsClassifier                        "
   ]
  },
  {
   "cell_type": "code",
   "execution_count": 14,
   "id": "7d4518cb",
   "metadata": {},
   "outputs": [],
   "source": [
    "model = KNeighborsClassifier(n_neighbors=3) "
   ]
  },
  {
   "cell_type": "code",
   "execution_count": 15,
   "id": "2f33c957",
   "metadata": {},
   "outputs": [],
   "source": [
    "le = preprocessing.LabelEncoder() \n",
    "crop = le.fit_transform(list(excel[\"CROP\"]))"
   ]
  },
  {
   "cell_type": "code",
   "execution_count": 16,
   "id": "84350806",
   "metadata": {},
   "outputs": [],
   "source": [
    "NITROGEN = list(excel[\"NITROGEN\"])\n",
    "PHOSPHORUS = list(excel[\"PHOSPHORUS\"])  \n",
    "POTASSIUM = list(excel[\"POTASSIUM\"]) \n",
    "TEMPERATURE = list(excel[\"TEMPERATURE\"])   \n",
    "HUMIDITY = list(excel[\"HUMIDITY\"]) \n",
    "PH = list(excel[\"PH\"]) \n",
    "RAINFALL = list(excel[\"RAINFALL\"])"
   ]
  },
  {
   "cell_type": "code",
   "execution_count": 17,
   "id": "42a2c7c0",
   "metadata": {
    "scrolled": true
   },
   "outputs": [
    {
     "name": "stdout",
     "output_type": "stream",
     "text": [
      "(2200, 7)\n",
      "(2200,)\n"
     ]
    }
   ],
   "source": [
    "features = list(zip(NITROGEN, PHOSPHORUS, POTASSIUM, TEMPERATURE, HUMIDITY, PH, RAINFALL))  \n",
    "features = np.array([NITROGEN, PHOSPHORUS, POTASSIUM, TEMPERATURE, HUMIDITY, PH, RAINFALL]) \n",
    "features = features.transpose()     \n",
    "print(features.shape)\n",
    "print(crop.shape)"
   ]
  },
  {
   "cell_type": "markdown",
   "id": "ad256043",
   "metadata": {},
   "source": [
    "TRAIN TEST SPLITTING"
   ]
  },
  {
   "cell_type": "code",
   "execution_count": 19,
   "id": "890c07c9",
   "metadata": {},
   "outputs": [],
   "source": [
    "from sklearn.model_selection import train_test_split\n",
    "X_train,X_test,y_train,y_test = train_test_split(X,y,test_size=0.2)"
   ]
  },
  {
   "cell_type": "code",
   "execution_count": 21,
   "id": "c373628c",
   "metadata": {},
   "outputs": [],
   "source": [
    "# importing warning library\n",
    "import warnings\n",
    "warnings.filterwarnings('ignore')\n"
   ]
  },
  {
   "cell_type": "code",
   "execution_count": 18,
   "id": "3bf4c411",
   "metadata": {},
   "outputs": [
    {
     "name": "stderr",
     "output_type": "stream",
     "text": [
      "C:\\Users\\Avani\\anaconda3\\lib\\site-packages\\sklearn\\neighbors\\_classification.py:198: DataConversionWarning: A column-vector y was passed when a 1d array was expected. Please change the shape of y to (n_samples,), for example using ravel().\n",
      "  return self._fit(X, y)\n"
     ]
    },
    {
     "data": {
      "text/plain": [
       "KNeighborsClassifier(n_neighbors=3)"
      ]
     },
     "execution_count": 18,
     "metadata": {},
     "output_type": "execute_result"
    }
   ],
   "source": [
    "#model.fit(features, crop)\n",
    "model.fit(X,y)"
   ]
  },
  {
   "cell_type": "code",
   "execution_count": 20,
   "id": "81b0a97e",
   "metadata": {
    "scrolled": true
   },
   "outputs": [
    {
     "data": {
      "text/html": [
       "<div>\n",
       "<style scoped>\n",
       "    .dataframe tbody tr th:only-of-type {\n",
       "        vertical-align: middle;\n",
       "    }\n",
       "\n",
       "    .dataframe tbody tr th {\n",
       "        vertical-align: top;\n",
       "    }\n",
       "\n",
       "    .dataframe thead th {\n",
       "        text-align: right;\n",
       "    }\n",
       "</style>\n",
       "<table border=\"1\" class=\"dataframe\">\n",
       "  <thead>\n",
       "    <tr style=\"text-align: right;\">\n",
       "      <th></th>\n",
       "      <th>NITROGEN</th>\n",
       "      <th>PHOSPHORUS</th>\n",
       "      <th>POTASSIUM</th>\n",
       "      <th>TEMPERATURE</th>\n",
       "      <th>HUMIDITY</th>\n",
       "      <th>PH</th>\n",
       "      <th>RAINFALL</th>\n",
       "    </tr>\n",
       "  </thead>\n",
       "  <tbody>\n",
       "    <tr>\n",
       "      <th>0</th>\n",
       "      <td>90</td>\n",
       "      <td>42</td>\n",
       "      <td>43</td>\n",
       "      <td>20.879744</td>\n",
       "      <td>82.002744</td>\n",
       "      <td>6.502985</td>\n",
       "      <td>202.935536</td>\n",
       "    </tr>\n",
       "    <tr>\n",
       "      <th>1</th>\n",
       "      <td>85</td>\n",
       "      <td>58</td>\n",
       "      <td>41</td>\n",
       "      <td>21.770462</td>\n",
       "      <td>80.319644</td>\n",
       "      <td>7.038096</td>\n",
       "      <td>226.655537</td>\n",
       "    </tr>\n",
       "    <tr>\n",
       "      <th>2</th>\n",
       "      <td>60</td>\n",
       "      <td>55</td>\n",
       "      <td>44</td>\n",
       "      <td>23.004459</td>\n",
       "      <td>82.320763</td>\n",
       "      <td>7.840207</td>\n",
       "      <td>263.964248</td>\n",
       "    </tr>\n",
       "    <tr>\n",
       "      <th>3</th>\n",
       "      <td>74</td>\n",
       "      <td>35</td>\n",
       "      <td>40</td>\n",
       "      <td>26.491096</td>\n",
       "      <td>80.158363</td>\n",
       "      <td>6.980401</td>\n",
       "      <td>242.864034</td>\n",
       "    </tr>\n",
       "    <tr>\n",
       "      <th>4</th>\n",
       "      <td>78</td>\n",
       "      <td>42</td>\n",
       "      <td>42</td>\n",
       "      <td>20.130175</td>\n",
       "      <td>81.604873</td>\n",
       "      <td>7.628473</td>\n",
       "      <td>262.717340</td>\n",
       "    </tr>\n",
       "  </tbody>\n",
       "</table>\n",
       "</div>"
      ],
      "text/plain": [
       "   NITROGEN  PHOSPHORUS  POTASSIUM  TEMPERATURE   HUMIDITY        PH  \\\n",
       "0        90          42         43    20.879744  82.002744  6.502985   \n",
       "1        85          58         41    21.770462  80.319644  7.038096   \n",
       "2        60          55         44    23.004459  82.320763  7.840207   \n",
       "3        74          35         40    26.491096  80.158363  6.980401   \n",
       "4        78          42         42    20.130175  81.604873  7.628473   \n",
       "\n",
       "     RAINFALL  \n",
       "0  202.935536  \n",
       "1  226.655537  \n",
       "2  263.964248  \n",
       "3  242.864034  \n",
       "4  262.717340  "
      ]
     },
     "execution_count": 20,
     "metadata": {},
     "output_type": "execute_result"
    }
   ],
   "source": [
    "X.head()"
   ]
  },
  {
   "cell_type": "markdown",
   "id": "037a76b2",
   "metadata": {},
   "source": [
    "Model Prediction "
   ]
  },
  {
   "cell_type": "code",
   "execution_count": 22,
   "id": "f0b3e05e",
   "metadata": {
    "scrolled": true
   },
   "outputs": [
    {
     "name": "stdout",
     "output_type": "stream",
     "text": [
      "['rice']\n"
     ]
    }
   ],
   "source": [
    "pred = model.predict([['90','42','43','20.879744','82.002744','6.502985','202.935536']])\n",
    "print(pred)\n",
    "    "
   ]
  },
  {
   "cell_type": "code",
   "execution_count": 23,
   "id": "d1aa467b",
   "metadata": {
    "scrolled": true
   },
   "outputs": [
    {
     "name": "stdout",
     "output_type": "stream",
     "text": [
      "['rice']\n"
     ]
    }
   ],
   "source": [
    "pred = model.predict([['85','58','41','21.770462','80.319644','7.038096','226.655537']])\n",
    "print(pred)"
   ]
  },
  {
   "cell_type": "markdown",
   "id": "2dac3505",
   "metadata": {},
   "source": [
    "### PICKLING "
   ]
  },
  {
   "cell_type": "code",
   "execution_count": 24,
   "id": "e0f3b10d",
   "metadata": {},
   "outputs": [],
   "source": [
    "import pickle"
   ]
  },
  {
   "cell_type": "code",
   "execution_count": 29,
   "id": "add87a77",
   "metadata": {},
   "outputs": [],
   "source": [
    "filename = 'Price_pred_model'\n",
    "pickle.dump(model,open(filename,'wb'))"
   ]
  },
  {
   "cell_type": "code",
   "execution_count": 30,
   "id": "d3532786",
   "metadata": {},
   "outputs": [
    {
     "data": {
      "text/plain": [
       "array(['rice'], dtype=object)"
      ]
     },
     "execution_count": 30,
     "metadata": {},
     "output_type": "execute_result"
    }
   ],
   "source": [
    "loaded_model = pickle.load(open(filename,'rb'))\n",
    "loaded_model.predict([['90','42','43','20.879744','82.002744','6.502985','202.935536']])"
   ]
  },
  {
   "cell_type": "code",
   "execution_count": 31,
   "id": "e9cbb77a",
   "metadata": {},
   "outputs": [
    {
     "data": {
      "text/plain": [
       "array(['rice'], dtype=object)"
      ]
     },
     "execution_count": 31,
     "metadata": {},
     "output_type": "execute_result"
    }
   ],
   "source": [
    "loaded_model = pickle.load(open(filename,'rb'))\n",
    "loaded_model.predict([['90','42','43','20.879744','82.002744','6.502985','202.935536']])"
   ]
  },
  {
   "cell_type": "markdown",
   "id": "5310a46d",
   "metadata": {},
   "source": [
    "### TKINTER \n",
    "RADIOBUTTON\n",
    "\n",
    "W3schools"
   ]
  },
  {
   "cell_type": "code",
   "execution_count": 35,
   "id": "0d7997aa",
   "metadata": {},
   "outputs": [
    {
     "name": "stdout",
     "output_type": "stream",
     "text": [
      "Values of N-P-K & Climate condition is best suited for the crop\n",
      "['rice']\n"
     ]
    }
   ],
   "source": [
    "from tkinter import *\n",
    "\n",
    "root = Tk()\n",
    "\n",
    "root.title (\"Crop Suitability Predict\")\n",
    "\n",
    "# this will create a label widget\n",
    "l1 = Label(root, text = \"NITROGEN:\")\n",
    "l2 = Label(root, text = \"PHOSPHORUS:\")\n",
    "l3 = Label(root, text = \"POTASSIUM:\")\n",
    "l4 = Label(root, text = \"TEMPERATURE:\")\n",
    "l5 = Label(root, text = \"HUMIDITY:\")\n",
    "l6 = Label(root, text = \"PH:\")\n",
    "l7 = Label(root, text = \"RAINFALL:\")\n",
    "\n",
    " \n",
    "# grid method to arrange labels in respective\n",
    "# rows and columns as specified\n",
    "l1.grid(row = 0, column = 0, sticky = W, pady = 2)\n",
    "l2.grid(row = 1, column = 0, sticky = W, pady = 2)\n",
    "l3.grid(row = 2, column = 0, sticky = W, pady = 2)\n",
    "l4.grid(row = 3, column = 0, sticky = W, pady = 2)\n",
    "l5.grid(row = 4, column = 0, sticky = W, pady = 2)\n",
    "l6.grid(row = 5, column = 0, sticky = W, pady = 2)\n",
    "l7.grid(row = 6, column = 0, sticky = W, pady = 2)\n",
    "\n",
    " \n",
    "# entry widgets, used to take entry from user\n",
    "e1 = Entry(root)\n",
    "e2 = Entry(root)\n",
    "e3 = Entry(root)\n",
    "e4 = Entry(root)\n",
    "e5 = Entry(root)\n",
    "e6 = Entry(root)\n",
    "e7 = Entry(root)\n",
    "\n",
    " \n",
    "# this will arrange entry widgets\n",
    "#(creates an horizontal writing tab to write variable values)\n",
    "\n",
    "e1.grid(row = 0, column = 1, pady = 2)\n",
    "e2.grid(row = 1, column = 1, pady = 2)\n",
    "e3.grid(row = 2, column = 1, pady = 2)\n",
    "e4.grid(row = 3, column = 1, pady = 2)\n",
    "e5.grid(row = 4, column = 1, pady = 2)\n",
    "e6.grid(row = 5, column = 1, pady = 2)\n",
    "e7.grid(row = 6, column = 1, pady = 2)\n",
    "\n",
    "\n",
    "\n",
    "    \n",
    "\n",
    "def Submit():\n",
    "    print('Values of N-P-K & Climate condition is best suited for the crop');\n",
    "    #print(e1.get());\n",
    "    pred = loaded_model.predict([[e1.get(),e2.get(),e3.get(),e4.get(),e5.get(),e6.get(),e7.get()]])\n",
    "    print(pred)\n",
    "\n",
    "\n",
    "\n",
    "    \n",
    "b1 = Button(root,text =\"Submit\",command=Submit, bg =\"Green\",fg =\"White\",pady= 25, padx = 50)\n",
    "\n",
    "b2 = Button(root,text=\"Quit\",command =root.quit,bg =\"Red\",fg =\"White\",pady= 25, padx = 50)\n",
    "\n",
    "\n",
    "# arranging button widgets\n",
    "# sticky = news North,south east west direction.\n",
    "\n",
    "b1.grid(row = 7, column = 2, sticky = E)\n",
    "b2.grid(row = 7, column = 3, sticky = E)\n",
    "\n",
    "\n",
    "mainloop()"
   ]
  },
  {
   "cell_type": "code",
   "execution_count": null,
   "id": "cc9a9e07",
   "metadata": {},
   "outputs": [],
   "source": []
  },
  {
   "cell_type": "code",
   "execution_count": null,
   "id": "c7e5e3a8",
   "metadata": {},
   "outputs": [],
   "source": []
  }
 ],
 "metadata": {
  "kernelspec": {
   "display_name": "Python 3.10.7 64-bit",
   "language": "python",
   "name": "python3"
  },
  "language_info": {
   "codemirror_mode": {
    "name": "ipython",
    "version": 3
   },
   "file_extension": ".py",
   "mimetype": "text/x-python",
   "name": "python",
   "nbconvert_exporter": "python",
   "pygments_lexer": "ipython3",
   "version": "3.10.7"
  },
  "vscode": {
   "interpreter": {
    "hash": "29c1fa678afcd7597b09d81fc72140661340836a2478e4b4e56eccd86cc2a998"
   }
  }
 },
 "nbformat": 4,
 "nbformat_minor": 5
}
